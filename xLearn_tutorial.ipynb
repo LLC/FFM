{
 "cells": [
  {
   "cell_type": "markdown",
   "metadata": {},
   "source": [
    "## 在使用xLearn前，要先把資料轉成LibFFM的格式"
   ]
  },
  {
   "cell_type": "code",
   "execution_count": 6,
   "metadata": {
    "collapsed": true
   },
   "outputs": [],
   "source": [
    "import pandas as pd"
   ]
  },
  {
   "cell_type": "code",
   "execution_count": 7,
   "metadata": {
    "collapsed": true
   },
   "outputs": [],
   "source": [
    "df = pd.read_csv('train.tiny.csv')"
   ]
  },
  {
   "cell_type": "code",
   "execution_count": 8,
   "metadata": {},
   "outputs": [
    {
     "data": {
      "text/html": [
       "<div>\n",
       "<style scoped>\n",
       "    .dataframe tbody tr th:only-of-type {\n",
       "        vertical-align: middle;\n",
       "    }\n",
       "\n",
       "    .dataframe tbody tr th {\n",
       "        vertical-align: top;\n",
       "    }\n",
       "\n",
       "    .dataframe thead th {\n",
       "        text-align: right;\n",
       "    }\n",
       "</style>\n",
       "<table border=\"1\" class=\"dataframe\">\n",
       "  <thead>\n",
       "    <tr style=\"text-align: right;\">\n",
       "      <th></th>\n",
       "      <th>Id</th>\n",
       "      <th>Label</th>\n",
       "      <th>I1</th>\n",
       "      <th>I2</th>\n",
       "      <th>I3</th>\n",
       "      <th>I4</th>\n",
       "      <th>I5</th>\n",
       "      <th>I6</th>\n",
       "      <th>I7</th>\n",
       "      <th>I8</th>\n",
       "      <th>...</th>\n",
       "      <th>C17</th>\n",
       "      <th>C18</th>\n",
       "      <th>C19</th>\n",
       "      <th>C20</th>\n",
       "      <th>C21</th>\n",
       "      <th>C22</th>\n",
       "      <th>C23</th>\n",
       "      <th>C24</th>\n",
       "      <th>C25</th>\n",
       "      <th>C26</th>\n",
       "    </tr>\n",
       "  </thead>\n",
       "  <tbody>\n",
       "    <tr>\n",
       "      <th>0</th>\n",
       "      <td>10000000</td>\n",
       "      <td>0</td>\n",
       "      <td>1.0</td>\n",
       "      <td>1</td>\n",
       "      <td>5.0</td>\n",
       "      <td>0.0</td>\n",
       "      <td>1382.0</td>\n",
       "      <td>4.0</td>\n",
       "      <td>15.0</td>\n",
       "      <td>2.0</td>\n",
       "      <td>...</td>\n",
       "      <td>e5ba7672</td>\n",
       "      <td>f54016b9</td>\n",
       "      <td>21ddcdc9</td>\n",
       "      <td>b1252a9d</td>\n",
       "      <td>07b5194c</td>\n",
       "      <td>NaN</td>\n",
       "      <td>3a171ecb</td>\n",
       "      <td>c5c50484</td>\n",
       "      <td>e8b83407</td>\n",
       "      <td>9727dd16</td>\n",
       "    </tr>\n",
       "    <tr>\n",
       "      <th>1</th>\n",
       "      <td>10000001</td>\n",
       "      <td>0</td>\n",
       "      <td>2.0</td>\n",
       "      <td>0</td>\n",
       "      <td>44.0</td>\n",
       "      <td>1.0</td>\n",
       "      <td>102.0</td>\n",
       "      <td>8.0</td>\n",
       "      <td>2.0</td>\n",
       "      <td>2.0</td>\n",
       "      <td>...</td>\n",
       "      <td>07c540c4</td>\n",
       "      <td>b04e4670</td>\n",
       "      <td>21ddcdc9</td>\n",
       "      <td>5840adea</td>\n",
       "      <td>60f6221e</td>\n",
       "      <td>NaN</td>\n",
       "      <td>3a171ecb</td>\n",
       "      <td>43f13e8b</td>\n",
       "      <td>e8b83407</td>\n",
       "      <td>731c3655</td>\n",
       "    </tr>\n",
       "    <tr>\n",
       "      <th>2</th>\n",
       "      <td>10000002</td>\n",
       "      <td>0</td>\n",
       "      <td>2.0</td>\n",
       "      <td>0</td>\n",
       "      <td>1.0</td>\n",
       "      <td>14.0</td>\n",
       "      <td>767.0</td>\n",
       "      <td>89.0</td>\n",
       "      <td>4.0</td>\n",
       "      <td>2.0</td>\n",
       "      <td>...</td>\n",
       "      <td>8efede7f</td>\n",
       "      <td>3412118d</td>\n",
       "      <td>NaN</td>\n",
       "      <td>NaN</td>\n",
       "      <td>e587c466</td>\n",
       "      <td>ad3062eb</td>\n",
       "      <td>3a171ecb</td>\n",
       "      <td>3b183c5c</td>\n",
       "      <td>NaN</td>\n",
       "      <td>NaN</td>\n",
       "    </tr>\n",
       "    <tr>\n",
       "      <th>3</th>\n",
       "      <td>10000003</td>\n",
       "      <td>0</td>\n",
       "      <td>NaN</td>\n",
       "      <td>893</td>\n",
       "      <td>NaN</td>\n",
       "      <td>NaN</td>\n",
       "      <td>4392.0</td>\n",
       "      <td>NaN</td>\n",
       "      <td>0.0</td>\n",
       "      <td>0.0</td>\n",
       "      <td>...</td>\n",
       "      <td>1e88c74f</td>\n",
       "      <td>74ef3502</td>\n",
       "      <td>NaN</td>\n",
       "      <td>NaN</td>\n",
       "      <td>6b3a5ca6</td>\n",
       "      <td>NaN</td>\n",
       "      <td>3a171ecb</td>\n",
       "      <td>9117a34a</td>\n",
       "      <td>NaN</td>\n",
       "      <td>NaN</td>\n",
       "    </tr>\n",
       "    <tr>\n",
       "      <th>4</th>\n",
       "      <td>10000004</td>\n",
       "      <td>0</td>\n",
       "      <td>3.0</td>\n",
       "      <td>-1</td>\n",
       "      <td>NaN</td>\n",
       "      <td>0.0</td>\n",
       "      <td>2.0</td>\n",
       "      <td>0.0</td>\n",
       "      <td>3.0</td>\n",
       "      <td>0.0</td>\n",
       "      <td>...</td>\n",
       "      <td>1e88c74f</td>\n",
       "      <td>26b3c7a7</td>\n",
       "      <td>NaN</td>\n",
       "      <td>NaN</td>\n",
       "      <td>21c9516a</td>\n",
       "      <td>NaN</td>\n",
       "      <td>32c7478e</td>\n",
       "      <td>b34f3128</td>\n",
       "      <td>NaN</td>\n",
       "      <td>NaN</td>\n",
       "    </tr>\n",
       "  </tbody>\n",
       "</table>\n",
       "<p>5 rows × 41 columns</p>\n",
       "</div>"
      ],
      "text/plain": [
       "         Id  Label   I1   I2    I3    I4      I5    I6    I7   I8    ...     \\\n",
       "0  10000000      0  1.0    1   5.0   0.0  1382.0   4.0  15.0  2.0    ...      \n",
       "1  10000001      0  2.0    0  44.0   1.0   102.0   8.0   2.0  2.0    ...      \n",
       "2  10000002      0  2.0    0   1.0  14.0   767.0  89.0   4.0  2.0    ...      \n",
       "3  10000003      0  NaN  893   NaN   NaN  4392.0   NaN   0.0  0.0    ...      \n",
       "4  10000004      0  3.0   -1   NaN   0.0     2.0   0.0   3.0  0.0    ...      \n",
       "\n",
       "        C17       C18       C19       C20       C21       C22       C23  \\\n",
       "0  e5ba7672  f54016b9  21ddcdc9  b1252a9d  07b5194c       NaN  3a171ecb   \n",
       "1  07c540c4  b04e4670  21ddcdc9  5840adea  60f6221e       NaN  3a171ecb   \n",
       "2  8efede7f  3412118d       NaN       NaN  e587c466  ad3062eb  3a171ecb   \n",
       "3  1e88c74f  74ef3502       NaN       NaN  6b3a5ca6       NaN  3a171ecb   \n",
       "4  1e88c74f  26b3c7a7       NaN       NaN  21c9516a       NaN  32c7478e   \n",
       "\n",
       "        C24       C25       C26  \n",
       "0  c5c50484  e8b83407  9727dd16  \n",
       "1  43f13e8b  e8b83407  731c3655  \n",
       "2  3b183c5c       NaN       NaN  \n",
       "3  9117a34a       NaN       NaN  \n",
       "4  b34f3128       NaN       NaN  \n",
       "\n",
       "[5 rows x 41 columns]"
      ]
     },
     "execution_count": 8,
     "metadata": {},
     "output_type": "execute_result"
    }
   ],
   "source": [
    "df.head()"
   ]
  },
  {
   "cell_type": "code",
   "execution_count": 9,
   "metadata": {
    "collapsed": true
   },
   "outputs": [],
   "source": [
    "column = df.columns.tolist()[1:]"
   ]
  },
  {
   "cell_type": "code",
   "execution_count": 10,
   "metadata": {
    "collapsed": true
   },
   "outputs": [],
   "source": [
    "def FillNa(df):\n",
    "    df=df.copy()\n",
    "    Num_Features=df.select_dtypes(['float','int']).columns.tolist()\n",
    "    Str_Features=df.select_dtypes(['object']).columns.tolist()\n",
    "    df[Num_Features]=df[Num_Features].fillna(0)\n",
    "    for col in Str_Features:\n",
    "        df[col]=df[col].fillna('NAN')\n",
    "        df[col]=df[col].replace('XNA','NAN')\n",
    "    return df"
   ]
  },
  {
   "cell_type": "code",
   "execution_count": 11,
   "metadata": {
    "collapsed": true
   },
   "outputs": [],
   "source": [
    "df = FillNa(df)"
   ]
  },
  {
   "cell_type": "code",
   "execution_count": 13,
   "metadata": {
    "collapsed": true
   },
   "outputs": [],
   "source": [
    "Categories = df.select_dtypes('object').columns.tolist() #類別型變數\n",
    "Features = [i for i in df.columns.tolist() if i != 'Label'] #除了y以外的欄位\n",
    "Numerics = [i for i in df.columns.tolist() if i not in Categories+['Label']] #數值型變數"
   ]
  },
  {
   "cell_type": "code",
   "execution_count": 14,
   "metadata": {
    "collapsed": true
   },
   "outputs": [],
   "source": [
    "current_code = len(Numerics)\n",
    "catdict = {}\n",
    "catcodes = {}"
   ]
  },
  {
   "cell_type": "code",
   "execution_count": 15,
   "metadata": {
    "collapsed": true
   },
   "outputs": [],
   "source": [
    "for x in Numerics:\n",
    "    catdict[x] = 0\n",
    "for x in Categories:\n",
    "    catdict[x] = 1"
   ]
  },
  {
   "cell_type": "code",
   "execution_count": 16,
   "metadata": {
    "collapsed": true
   },
   "outputs": [],
   "source": [
    "nrows = df.shape[0]\n",
    "columns = len(Features)"
   ]
  },
  {
   "cell_type": "code",
   "execution_count": 17,
   "metadata": {
    "collapsed": true
   },
   "outputs": [],
   "source": [
    "with open(\"test_ffm.txt\",'w') as text_file:\n",
    "    for n, r in enumerate(range(nrows)):\n",
    "        datastring = \"\"\n",
    "        datarow = df.loc[r].to_dict()\n",
    "        datastring += str(int(datarow['Label']))\n",
    "        for i, x in enumerate(catdict.keys()):\n",
    "            if(catdict[x]==0): #numerical variables\n",
    "                datastring = datastring + \" \" + str(i) + \":\" + str(i) + \":\" + str(datarow[x])\n",
    "            else: #when catdict[x]!=0 -> categorical variables\n",
    "                if(x not in catcodes): #ohe\n",
    "                    catcodes[x] = {}\n",
    "                    current_code += 1 #current_code最初是數值型變數的個數\n",
    "                    catcodes[x][datarow[x]] = current_code\n",
    "                \n",
    "                elif(datarow[x] not in catcodes[x]):\n",
    "                    current_code += 1\n",
    "                    catcodes[x][datarow[x]] = current_code\n",
    "                # Let All Data as input form\n",
    "                code = catcodes[x][datarow[x]]  \n",
    "                datastring = datastring + \" \" + str(i) + \":\" + str(int(code)) + \":1\" \n",
    "            \n",
    "        datastring = datastring + '\\n'\n",
    "        text_file.write(datastring)"
   ]
  },
  {
   "cell_type": "markdown",
   "metadata": {},
   "source": [
    "## 開始使用xLearn建模 "
   ]
  },
  {
   "cell_type": "markdown",
   "metadata": {},
   "source": [
    "Reference: https://xlearn-doc.readthedocs.io/en/latest/python_api.html"
   ]
  },
  {
   "cell_type": "code",
   "execution_count": 18,
   "metadata": {
    "collapsed": true
   },
   "outputs": [],
   "source": [
    "import xlearn as xl\n",
    "\n",
    "# Training task\n",
    "ffm_model = xl.create_ffm() # Use field-aware factorization machine\n",
    "ffm_model.setTrain(\"train_ffm.txt\")  # Training data\n",
    "#ffm_model.setValidate(\"test_ffm.txt\")  # Validation data\n",
    "\n",
    "# param:\n",
    "#  0. task: binary classification\n",
    "#  1. learning rate(lr): 0.2\n",
    "#  2. regular lambda(lambda): 0.002\n",
    "#  3. evaluation metric(metric): acc, prec, f1, auc (classification) rmse, mae, mape (regression)\n",
    "#  4. optimization(opt): sgd, adagrad, ftrl\n",
    "param = {'task':'binary', 'lr':0.2,\n",
    "         'lambda':0.002, 'metric':'acc'}\n",
    "\n",
    "# Start to train\n",
    "# The trained model will be stored in model.out\n",
    "ffm_model.fit(param, './model.out')\n",
    "\n",
    "ffm_model.cv(param)"
   ]
  },
  {
   "cell_type": "code",
   "execution_count": 19,
   "metadata": {
    "collapsed": true
   },
   "outputs": [],
   "source": [
    "# Prediction task\n",
    "ffm_model.setTest(\"./test_ffm.txt\")  # Test data\n",
    "\n",
    "#ffm_model.setSigmoid()  # Convert output to 0-1\n",
    "ffm_model.setSign() # Convert output to 0 or 1\n",
    "\n",
    "# Start to predict\n",
    "# The output result will be stored in output.txt\n",
    "ffm_model.predict(\"./model.out\", \"./output.txt\")"
   ]
  },
  {
   "cell_type": "markdown",
   "metadata": {},
   "source": [
    "## In Sklearn "
   ]
  },
  {
   "cell_type": "code",
   "execution_count": 5,
   "metadata": {},
   "outputs": [
    {
     "name": "stdout",
     "output_type": "stream",
     "text": [
      "(array([-1.23794e+00, -7.47523e-01,  1.04232e-05, ..., -4.39428e-09,\n",
      "       -4.39428e-09, -4.39428e-09]), array([[1.12387e-06, 4.25162e-03, 3.00676e-02, ..., 1.00801e-02,\n",
      "        1.37930e-02, 6.82052e-03],\n",
      "       [2.06583e-02, 1.26570e-03, 5.31453e-03, ..., 2.10824e-02,\n",
      "        1.32065e-02, 8.49536e-03],\n",
      "       [1.31720e-02, 1.10965e-02, 7.27028e-03, ..., 2.10455e-02,\n",
      "        2.92958e-03, 2.06397e-02],\n",
      "       ...,\n",
      "       [2.04417e-02, 3.52581e-02, 2.57519e-02, ..., 1.42209e-02,\n",
      "        3.33449e-02, 3.81100e-02],\n",
      "       [4.28868e-02, 1.81048e-02, 3.72769e-02, ..., 3.32392e-02,\n",
      "        3.21346e-02, 3.84002e-02],\n",
      "       [6.91316e-03, 3.84712e-02, 3.76509e-02, ..., 1.13450e-02,\n",
      "        4.81112e-03, 3.05756e-02]]))\n"
     ]
    }
   ],
   "source": [
    "import numpy as np\n",
    "import xlearn as xl\n",
    "\n",
    "# param:\n",
    "#  0. binary classification\n",
    "#  1. learning rate: 0.2\n",
    "#  2. epoch number: 10 (auto early-stop)\n",
    "#  3. evaluation metric: accuarcy\n",
    "#  4. use sgd optimization method\n",
    "ffm_model = xl.FFMModel(task='binary', \n",
    "                        lr=0.2, \n",
    "                        epoch=10, \n",
    "                        reg_lambda=0.002,\n",
    "                        metric='acc')\n",
    "# Start to train\n",
    "# Directly use string to specify data source\n",
    "ffm_model.fit('train_ffm.txt', \n",
    "              eval_set='test_ffm.txt')\n",
    "\n",
    "# print model weights\n",
    "print(ffm_model.weights)\n",
    "\n",
    "# Generate predictions\n",
    "y_pred = ffm_model.predict('test_ffm.txt')"
   ]
  }
 ],
 "metadata": {
  "kernelspec": {
   "display_name": "Python 3",
   "language": "python",
   "name": "python3"
  },
  "language_info": {
   "codemirror_mode": {
    "name": "ipython",
    "version": 3
   },
   "file_extension": ".py",
   "mimetype": "text/x-python",
   "name": "python",
   "nbconvert_exporter": "python",
   "pygments_lexer": "ipython3",
   "version": "3.6.4"
  }
 },
 "nbformat": 4,
 "nbformat_minor": 2
}
